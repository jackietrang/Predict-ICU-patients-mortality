{
 "cells": [
  {
   "cell_type": "markdown",
   "metadata": {},
   "source": [
    "# Intensive Care Unit Patients Dataset\n",
    "This dataset contains information for a sample of 200 patients who were part of a larger study conducted in a hospital's Intensive Care Unit (ICU). Since an ICU often deals with serious, life-threatening cases, a key variable to study is patient survival, which is coded in the Survive variable as 1 if the patient lived to be discharged and 0 if the patient died.\n",
    "\n"
   ]
  },
  {
   "cell_type": "markdown",
   "metadata": {},
   "source": [
    "# Objectives:\n",
    "- Investigate potential patterns of ICU who lived and died.\n",
    "- Carry out hypothesis testing for interested observations."
   ]
  },
  {
   "cell_type": "code",
   "execution_count": 4,
   "metadata": {},
   "outputs": [
    {
     "data": {
      "text/html": [
       "<div>\n",
       "<style scoped>\n",
       "    .dataframe tbody tr th:only-of-type {\n",
       "        vertical-align: middle;\n",
       "    }\n",
       "\n",
       "    .dataframe tbody tr th {\n",
       "        vertical-align: top;\n",
       "    }\n",
       "\n",
       "    .dataframe thead th {\n",
       "        text-align: right;\n",
       "    }\n",
       "</style>\n",
       "<table border=\"1\" class=\"dataframe\">\n",
       "  <thead>\n",
       "    <tr style=\"text-align: right;\">\n",
       "      <th></th>\n",
       "      <th>Unnamed: 0</th>\n",
       "      <th>ID</th>\n",
       "      <th>Survive</th>\n",
       "      <th>Age</th>\n",
       "      <th>AgeGroup</th>\n",
       "      <th>Sex</th>\n",
       "      <th>Infection</th>\n",
       "      <th>SysBP</th>\n",
       "      <th>Pulse</th>\n",
       "      <th>Emergency</th>\n",
       "    </tr>\n",
       "  </thead>\n",
       "  <tbody>\n",
       "    <tr>\n",
       "      <th>0</th>\n",
       "      <td>1</td>\n",
       "      <td>4</td>\n",
       "      <td>0</td>\n",
       "      <td>87</td>\n",
       "      <td>3</td>\n",
       "      <td>1</td>\n",
       "      <td>1</td>\n",
       "      <td>80</td>\n",
       "      <td>96</td>\n",
       "      <td>1</td>\n",
       "    </tr>\n",
       "    <tr>\n",
       "      <th>1</th>\n",
       "      <td>2</td>\n",
       "      <td>8</td>\n",
       "      <td>1</td>\n",
       "      <td>27</td>\n",
       "      <td>1</td>\n",
       "      <td>1</td>\n",
       "      <td>1</td>\n",
       "      <td>142</td>\n",
       "      <td>88</td>\n",
       "      <td>1</td>\n",
       "    </tr>\n",
       "    <tr>\n",
       "      <th>2</th>\n",
       "      <td>3</td>\n",
       "      <td>12</td>\n",
       "      <td>1</td>\n",
       "      <td>59</td>\n",
       "      <td>2</td>\n",
       "      <td>0</td>\n",
       "      <td>0</td>\n",
       "      <td>112</td>\n",
       "      <td>80</td>\n",
       "      <td>1</td>\n",
       "    </tr>\n",
       "    <tr>\n",
       "      <th>3</th>\n",
       "      <td>4</td>\n",
       "      <td>14</td>\n",
       "      <td>1</td>\n",
       "      <td>77</td>\n",
       "      <td>3</td>\n",
       "      <td>0</td>\n",
       "      <td>0</td>\n",
       "      <td>100</td>\n",
       "      <td>70</td>\n",
       "      <td>0</td>\n",
       "    </tr>\n",
       "    <tr>\n",
       "      <th>4</th>\n",
       "      <td>5</td>\n",
       "      <td>27</td>\n",
       "      <td>0</td>\n",
       "      <td>76</td>\n",
       "      <td>3</td>\n",
       "      <td>1</td>\n",
       "      <td>1</td>\n",
       "      <td>128</td>\n",
       "      <td>90</td>\n",
       "      <td>1</td>\n",
       "    </tr>\n",
       "  </tbody>\n",
       "</table>\n",
       "</div>"
      ],
      "text/plain": [
       "   Unnamed: 0  ID  Survive  Age  AgeGroup  Sex  Infection  SysBP  Pulse  \\\n",
       "0           1   4        0   87         3    1          1     80     96   \n",
       "1           2   8        1   27         1    1          1    142     88   \n",
       "2           3  12        1   59         2    0          0    112     80   \n",
       "3           4  14        1   77         3    0          0    100     70   \n",
       "4           5  27        0   76         3    1          1    128     90   \n",
       "\n",
       "   Emergency  \n",
       "0          1  \n",
       "1          1  \n",
       "2          1  \n",
       "3          0  \n",
       "4          1  "
      ]
     },
     "execution_count": 4,
     "metadata": {},
     "output_type": "execute_result"
    }
   ],
   "source": [
    "import pandas as pd\n",
    "health = pd.read_csv('ICU.csv.txt')\n",
    "health.head() #View the inital of the data\n",
    "\n",
    "#Note:\n",
    "## Continuous variables: SysBP = Systolic blood pressure (in mm of Hg); Age; Pulse\n",
    "## Categorical variables: Survive, Sex (1 female, 0 male), Infection, Emergency (1=emergency admission or 0=elective admission)"
   ]
  },
  {
   "cell_type": "markdown",
   "metadata": {},
   "source": [
    "### Data explore: Finding the missing nature of the data\n",
    "\n"
   ]
  },
  {
   "cell_type": "code",
   "execution_count": 31,
   "metadata": {},
   "outputs": [
    {
     "data": {
      "text/plain": [
       "Unnamed: 0    0\n",
       "ID            0\n",
       "Survive       0\n",
       "Age           0\n",
       "AgeGroup      0\n",
       "Sex           0\n",
       "Infection     0\n",
       "SysBP         0\n",
       "Pulse         0\n",
       "Emergency     0\n",
       "dtype: int64"
      ]
     },
     "execution_count": 31,
     "metadata": {},
     "output_type": "execute_result"
    }
   ],
   "source": [
    "\n",
    "health.isnull().sum()\n",
    "##There is no missing value in this dataset\n"
   ]
  },
  {
   "cell_type": "markdown",
   "metadata": {},
   "source": [
    "### Understanding the survivor nature of ICU patients on Age & Gender"
   ]
  },
  {
   "cell_type": "code",
   "execution_count": 64,
   "metadata": {},
   "outputs": [
    {
     "data": {
      "text/plain": [
       "(60, 10)"
      ]
     },
     "execution_count": 64,
     "metadata": {},
     "output_type": "execute_result"
    }
   ],
   "source": [
    "health.Survive.groupby(health.Sex).sum()\n",
    "health[(health['Survive'] == 1) & (health['Sex'] == 1)].shape #60 Female survivors\n"
   ]
  },
  {
   "cell_type": "code",
   "execution_count": 63,
   "metadata": {},
   "outputs": [
    {
     "data": {
      "text/plain": [
       "(100, 10)"
      ]
     },
     "execution_count": 63,
     "metadata": {},
     "output_type": "execute_result"
    }
   ],
   "source": [
    "health[(health['Survive'] == 1) & (health['Sex'] == 0)].shape\n",
    "\n",
    " #100 Male survivors\n"
   ]
  },
  {
   "cell_type": "code",
   "execution_count": 68,
   "metadata": {},
   "outputs": [
    {
     "data": {
      "image/png": "[encoded data removed]",
      "text/plain": [
       "<Figure size 432x288 with 1 Axes>"
      ]
     },
     "metadata": {},
     "output_type": "display_data"
    }
   ],
   "source": [
    "# Visualize the distribution of Male and Female survivors in a piechart\n",
    "plt.pie(health.Survive.groupby(health.Sex).sum(), explode=(0,0.1), labels=['Male - 0', \"Female - 1\"], colors=['green', 'orange'],\n",
    "autopct='%1.1f%%', shadow=True, startangle=140)\n",
    "\n",
    "plt.axis('equal')\n",
    "plt.show()"
   ]
  },
  {
   "cell_type": "code",
   "execution_count": 72,
   "metadata": {},
   "outputs": [
    {
     "data": {
      "text/plain": [
       "<seaborn.axisgrid.FacetGrid at 0x28fb33f0d30>"
      ]
     },
     "execution_count": 72,
     "metadata": {},
     "output_type": "execute_result"
    },
    {
     "data": {
      "image/png": "[encoded data removed]",
      "text/plain": [
       "<Figure size 432x216 with 2 Axes>"
      ]
     },
     "metadata": {},
     "output_type": "display_data"
    }
   ],
   "source": [
    "#Distribution of Survival Age-wise\n",
    "import seaborn as sns\n",
    "g = sns.FacetGrid(health, col='Survive')\n",
    "g.map(plt.hist, 'Age', bins=20)\n",
    "\n",
    "#The majority of non-survivors are above 40 years old while survivors"
   ]
  },
  {
   "cell_type": "code",
   "execution_count": 79,
   "metadata": {},
   "outputs": [
    {
     "data": {
      "text/plain": [
       "Survive\n",
       "0    65.125\n",
       "1    55.650\n",
       "Name: Age, dtype: float64"
      ]
     },
     "execution_count": 79,
     "metadata": {},
     "output_type": "execute_result"
    }
   ],
   "source": [
    "health.Age.groupby(health.Survive).mean() #Grouping by \"survive\" status to see the mean \n",
    "#Non-survivors are older than survivors"
   ]
  },
  {
   "cell_type": "code",
   "execution_count": 75,
   "metadata": {},
   "outputs": [
    {
     "data": {
      "text/plain": [
       "<seaborn.axisgrid.FacetGrid at 0x28fb4528898>"
      ]
     },
     "execution_count": 75,
     "metadata": {},
     "output_type": "execute_result"
    },
    {
     "data": {
      "image/png": "[encoded data removed]",
      "text/plain": [
       "<Figure size 514.88x316.8 with 4 Axes>"
      ]
     },
     "metadata": {},
     "output_type": "display_data"
    }
   ],
   "source": [
    "#Survival age based on gender \n",
    "grid = sns.FacetGrid(health, col='Survive', row='Sex', size=2.2, aspect=1.6)\n",
    "grid.map(plt.hist, 'Age', alpha=.5, bins=20, color = 'green')\n",
    "grid.add_legend()"
   ]
  },
  {
   "cell_type": "markdown",
   "metadata": {},
   "source": [
    "### Hypothesis testing on the effect of age on survival rate\n",
    "- As age seems to be a good predictor for the survival status, I'll conduct a hypothesis testing.\n",
    "    - Null hypothesis: Ho: Ma = Md (Mean age of survivors are the same as non-survivors)\n",
    "    - Alternative hypothesis: H1: Ma != Md (Mean age of survivors are different from non-survivors)\n",
    "\n",
    "- Type of hypothesis test: Independent sample t-test as it is assumed that patients are independent from one another."
   ]
  },
  {
   "cell_type": "code",
   "execution_count": 114,
   "metadata": {},
   "outputs": [
    {
     "name": "stdout",
     "output_type": "stream",
     "text": [
      "t-statistic -0.188353179044941\n",
      "t =  -2.715081584337194 , p_twosided =  0.007211348955504813 , p_onesided = 0.0036056744777524063\n"
     ]
    }
   ],
   "source": [
    "import scipy.stats as stats\n",
    "\n",
    "alive_age = health[health['Survive'] == 1]['Age']\n",
    "dead_age = health[health['Survive'] == 0]['Age']\n",
    "\n",
    "N_alive = len(alive_age)\n",
    "N_dead = len(dead_age)\n",
    "\n",
    "d_alive = N_alive -1\n",
    "d_dead = N_dead -1\n",
    "\n",
    "s_alive = np.std(alive_age,ddof=1)\n",
    "s_dead = np.std(dead_age, ddof=1)\n",
    "\n",
    "mean_alive = np.mean(x1)\n",
    "mean_dead = np.mean(x2)\n",
    "\n",
    "sp = np.sqrt((d_alive*s_alive**2 + d_dead*s_dead**2)/df) #pooled variance\n",
    "se = sp*np.sqrt(1/N_alive+ 1/N_dead)   #standard error\n",
    "t = (mean_dead - mean_alive)/(se) #t statistics\n",
    "print(\"t-statistic\", t)\n",
    "\n",
    "# a two-sample independent t-test is done with scipy as follows\n",
    "# NOTE: the p-value given is two-sided so the one-sided p value would be p/2\n",
    "t, p_twosided = stats.ttest_ind(alive_age, dead_age, equal_var=True)\n",
    "print(\"t = \",t, \", p_twosided = \", p_twosided, \", p_onesided =\", p_twosided/2)\n",
    "\n",
    "###As p-value <0.05, the difference between survor and non-survivor age is statistically significant.\n",
    "#### People who died are older than people who were alive.\n"
   ]
  },
  {
   "cell_type": "markdown",
   "metadata": {},
   "source": [
    "### Understanding the survival nature of ICU patients based on Continuous variables"
   ]
  },
  {
   "cell_type": "code",
   "execution_count": 77,
   "metadata": {},
   "outputs": [
    {
     "data": {
      "text/plain": [
       "Survive\n",
       "0    65.125\n",
       "1    55.650\n",
       "Name: Age, dtype: float64"
      ]
     },
     "execution_count": 77,
     "metadata": {},
     "output_type": "execute_result"
    }
   ],
   "source": []
  },
  {
   "cell_type": "code",
   "execution_count": 5,
   "metadata": {},
   "outputs": [
    {
     "data": {
      "text/html": [
       "<div>\n",
       "<style scoped>\n",
       "    .dataframe tbody tr th:only-of-type {\n",
       "        vertical-align: middle;\n",
       "    }\n",
       "\n",
       "    .dataframe tbody tr th {\n",
       "        vertical-align: top;\n",
       "    }\n",
       "\n",
       "    .dataframe thead th {\n",
       "        text-align: right;\n",
       "    }\n",
       "</style>\n",
       "<table border=\"1\" class=\"dataframe\">\n",
       "  <thead>\n",
       "    <tr style=\"text-align: right;\">\n",
       "      <th></th>\n",
       "      <th>Unnamed: 0</th>\n",
       "      <th>ID</th>\n",
       "      <th>Age</th>\n",
       "      <th>AgeGroup</th>\n",
       "      <th>Sex</th>\n",
       "      <th>Infection</th>\n",
       "      <th>SysBP</th>\n",
       "      <th>Pulse</th>\n",
       "      <th>Emergency</th>\n",
       "    </tr>\n",
       "    <tr>\n",
       "      <th>Survive</th>\n",
       "      <th></th>\n",
       "      <th></th>\n",
       "      <th></th>\n",
       "      <th></th>\n",
       "      <th></th>\n",
       "      <th></th>\n",
       "      <th></th>\n",
       "      <th></th>\n",
       "      <th></th>\n",
       "    </tr>\n",
       "  </thead>\n",
       "  <tbody>\n",
       "    <tr>\n",
       "      <th>0</th>\n",
       "      <td>90.4500</td>\n",
       "      <td>395.9500</td>\n",
       "      <td>65.125</td>\n",
       "      <td>2.325</td>\n",
       "      <td>0.400</td>\n",
       "      <td>0.600</td>\n",
       "      <td>118.82500</td>\n",
       "      <td>100.625</td>\n",
       "      <td>0.95000</td>\n",
       "    </tr>\n",
       "    <tr>\n",
       "      <th>1</th>\n",
       "      <td>103.0125</td>\n",
       "      <td>457.0375</td>\n",
       "      <td>55.650</td>\n",
       "      <td>1.950</td>\n",
       "      <td>0.375</td>\n",
       "      <td>0.375</td>\n",
       "      <td>135.64375</td>\n",
       "      <td>98.500</td>\n",
       "      <td>0.68125</td>\n",
       "    </tr>\n",
       "  </tbody>\n",
       "</table>\n",
       "</div>"
      ],
      "text/plain": [
       "         Unnamed: 0        ID     Age  AgeGroup    Sex  Infection      SysBP  \\\n",
       "Survive                                                                        \n",
       "0           90.4500  395.9500  65.125     2.325  0.400      0.600  118.82500   \n",
       "1          103.0125  457.0375  55.650     1.950  0.375      0.375  135.64375   \n",
       "\n",
       "           Pulse  Emergency  \n",
       "Survive                      \n",
       "0        100.625    0.95000  \n",
       "1         98.500    0.68125  "
      ]
     },
     "execution_count": 5,
     "metadata": {},
     "output_type": "execute_result"
    }
   ],
   "source": [
    "health.groupby('Survive').mean() #Grouping by \"survive\" status to see the mean \n",
    "                                #Focused continuous variables: Age, SysBP and Pulse\n",
    "#The initial observation is that non-survivors are of older age, lower SysBP and Pulse -> Hypothesis test later."
   ]
  },
  {
   "cell_type": "code",
   "execution_count": 9,
   "metadata": {},
   "outputs": [],
   "source": [
    "#Bargraph dead vs survive regarding SysBP\n",
    "import matplotlib.pyplot as plt\n",
    "import numpy as np\n"
   ]
  },
  {
   "cell_type": "code",
   "execution_count": 28,
   "metadata": {},
   "outputs": [
    {
     "data": {
      "image/png": "[encoded data removed]",
      "text/plain": [
       "<Figure size 432x288 with 1 Axes>"
      ]
     },
     "metadata": {},
     "output_type": "display_data"
    },
    {
     "data": {
      "image/png": "[encoded data removed]",
      "text/plain": [
       "<Figure size 432x288 with 1 Axes>"
      ]
     },
     "metadata": {},
     "output_type": "display_data"
    }
   ],
   "source": [
    "\n",
    "dead = health[(health['Survive'] == 0)] #dead is the subset of non-survivors\n",
    "dead.set_index('Survive')['SysBP'].plot.bar() \n",
    "\n",
    "plt.ylabel('SysBP')\n",
    "plt.xlabel('Non-survivor')\n",
    "plt.show()\n",
    "\n",
    "\n",
    "alive = health[(health['Survive'] == 1)] #subset of survivors\n",
    "alive.set_index('Survive')['SysBP'].plot.bar() \n",
    "\n",
    "plt.ylabel('SysBP')\n",
    "plt.xlabel('Survivor')\n",
    "plt.show()\n",
    "#There are more survivors than non-survivors\n",
    "\n"
   ]
  },
  {
   "cell_type": "code",
   "execution_count": 29,
   "metadata": {},
   "outputs": [
    {
     "data": {
      "image/png": "[encoded data removed]",
      "text/plain": [
       "<Figure size 432x288 with 1 Axes>"
      ]
     },
     "metadata": {},
     "output_type": "display_data"
    },
    {
     "data": {
      "image/png": "[encoded data removed]",
      "text/plain": [
       "<Figure size 432x288 with 1 Axes>"
      ]
     },
     "metadata": {},
     "output_type": "display_data"
    }
   ],
   "source": [
    "df_plot = dead.set_index('ID')['SysBP'].plot.line()\n",
    "plt.ylabel('SysBP')\n",
    "plt.xlabel('Non-survivor ID')\n",
    "plt.show()\n",
    "\n",
    "df_plot = alive.set_index('ID')['SysBP'].plot.line()\n",
    "plt.ylabel('SysBP')\n",
    "plt.xlabel('Survivor ID')\n",
    "plt.show()"
   ]
  },
  {
   "cell_type": "code",
   "execution_count": null,
   "metadata": {},
   "outputs": [],
   "source": []
  },
  {
   "cell_type": "code",
   "execution_count": null,
   "metadata": {},
   "outputs": [],
   "source": []
  },
  {
   "cell_type": "code",
   "execution_count": null,
   "metadata": {},
   "outputs": [],
   "source": []
  }
 ],
 "metadata": {
  "kernelspec": {
   "display_name": "Python 3",
   "language": "python",
   "name": "python3"
  },
  "language_info": {
   "codemirror_mode": {
    "name": "ipython",
    "version": 3
   },
   "file_extension": ".py",
   "mimetype": "text/x-python",
   "name": "python",
   "nbconvert_exporter": "python",
   "pygments_lexer": "ipython3",
   "version": "3.6.5"
  }
 },
 "nbformat": 4,
 "nbformat_minor": 2
}
